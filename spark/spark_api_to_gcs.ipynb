{
 "cells": [
  {
   "cell_type": "code",
   "execution_count": 10,
   "id": "3c3152e0-36e3-4497-83f6-590b994a922d",
   "metadata": {},
   "outputs": [],
   "source": [
    "OPENAQ_API_KEY = \"2856dbe1b6e685bc1210cd8657c9b81b7809764a63a1f0033dbc1b235bd30638\""
   ]
  },
  {
   "cell_type": "code",
   "execution_count": 11,
   "id": "de8fecd8-c70e-482e-bff8-16296a31e374",
   "metadata": {},
   "outputs": [],
   "source": [
    "import requests\n",
    "from datetime import date, timedelta\n",
    "\n",
    "def fetchMeasurements(coordinates: str, radius: int, limit: int, page: int):\n",
    "    today = date.today()\n",
    "    yesterday = date.today() - timedelta(days=1)\n",
    "    params = {\n",
    "        \"coordinates\": coordinates,\n",
    "        \"radius\": radius,\n",
    "        \"limit\": limit,\n",
    "        \"page\": page,\n",
    "        \"date_from\": yesterday.strftime(\"%Y-%m-%d\"),\n",
    "        \"date_to\": today.strftime(\"%Y-%m-%d\"),\n",
    "    }\n",
    "    headers={\n",
    "        \"X-API-Key\": OPENAQ_API_KEY\n",
    "    }\n",
    "    req = requests.get('https://api.openaq.org/v2/measurements', params=params, headers=headers)\n",
    "    print(req.url)\n",
    "    return req.json()"
   ]
  },
  {
   "cell_type": "code",
   "execution_count": 12,
   "id": "eb1e5ab5-895c-4555-a9eb-f67e8bfeb554",
   "metadata": {},
   "outputs": [],
   "source": [
    "from pyspark.sql.types import DoubleType, StructType, StructField, IntegerType, StringType, ArrayType\n",
    "\n",
    "responseSchema = StructType([\n",
    "    StructField(\"meta\", StructType([\n",
    "        StructField(\"found\", IntegerType() or StringType()),\n",
    "        StructField(\"page\", IntegerType())\n",
    "    ])),\n",
    "    StructField(\"results\", ArrayType(StructType([\n",
    "        StructField(\"locationId\", IntegerType()),\n",
    "        StructField(\"location\", StringType()),\n",
    "        StructField(\"parameter\", StringType()),\n",
    "        StructField(\"value\", DoubleType()),\n",
    "        StructField(\"unit\", StringType()),\n",
    "        StructField(\"country\", StringType()),\n",
    "        StructField(\"city\", StringType()),\n",
    "        StructField(\"entity\", StringType()),\n",
    "        StructField(\"sensorType\", StringType()),\n",
    "        StructField(\"date\", StructType([\n",
    "            StructField(\"utc\", StringType()),\n",
    "            StructField(\"local\", StringType()),\n",
    "        ])),\n",
    "        StructField(\"coordinates\", StructType([\n",
    "            StructField(\"latitude\", DoubleType()),\n",
    "            StructField(\"longitude\", DoubleType()),\n",
    "        ]))\n",
    "    ])))\n",
    "])"
   ]
  },
  {
   "cell_type": "code",
   "execution_count": 13,
   "id": "6146e452-f52d-481b-8de9-dec617567428",
   "metadata": {},
   "outputs": [],
   "source": [
    "from pyspark.sql import Row\n",
    "from pyspark.sql.functions import udf\n",
    "\n",
    "FetchMeasurementRequestRow = Row(\"coordinates\", \"radius\", \"limit\", \"page\")\n",
    "udf_fetchMeasurements = udf(fetchMeasurements, responseSchema)"
   ]
  },
  {
   "cell_type": "code",
   "execution_count": 14,
   "id": "28f71889-4ee8-40af-b0e8-80425bde3177",
   "metadata": {},
   "outputs": [],
   "source": [
    "import pyspark\n",
    "from pyspark.sql import SparkSession\n",
    "\n",
    "spark = spark = SparkSession.builder \\\n",
    "    .appName('spark_api_to_gcs') \\\n",
    "    .config(\"spark.jars\", \"https://storage.googleapis.com/hadoop-lib/gcs/gcs-connector-hadoop3-latest.jar\") \\\n",
    "    .config(\"spark.sql.repl.eagerEval.enabled\", True) \\\n",
    "    .getOrCreate()\n",
    "spark.sparkContext.setLogLevel(\"ERROR\") \n",
    "spark._jsc.hadoopConfiguration().set(\"google.cloud.auth.service.account.json.keyfile\", \"/home/ali_marzouk/air-quality-421919-36f116eb9049.json\")\n",
    "spark._jsc.hadoopConfiguration().set(\"fs.AbstractFileSystem.gs.impl\", \"com.google.cloud.hadoop.fs.gcs.GoogleHadoopFS\")\n",
    "spark._jsc.hadoopConfiguration().set(\"google.cloud.auth.service.account.enable\", \"true\")\n",
    "\n",
    "# Define GCS bucket and file path\n",
    "bucket_name = \"air-quality-data-0123\""
   ]
  },
  {
   "cell_type": "code",
   "execution_count": 16,
   "id": "61047f0e-d666-4eae-a4b1-93d9281d2fbb",
   "metadata": {},
   "outputs": [
    {
     "name": "stderr",
     "output_type": "stream",
     "text": [
      "https://api.openaq.org/v2/measurements?coordinates=48.86211%2C2.344615&radius=20000&limit=1000&page=1&date_from=2024-04-11&date_to=2024-05-10\n",
      "https://api.openaq.org/v2/measurements?coordinates=48.86211%2C2.344615&radius=20000&limit=1000&page=3&date_from=2024-04-11&date_to=2024-05-10\n",
      "https://api.openaq.org/v2/measurements?coordinates=48.86211%2C2.344615&radius=20000&limit=1000&page=2&date_from=2024-04-11&date_to=2024-05-10\n",
      "https://api.openaq.org/v2/measurements?coordinates=48.86211%2C2.344615&radius=20000&limit=1000&page=4&date_from=2024-04-11&date_to=2024-05-10\n",
      "https://api.openaq.org/v2/measurements?coordinates=48.86211%2C2.344615&radius=20000&limit=1000&page=5&date_from=2024-04-11&date_to=2024-05-10\n",
      "                                                                                \r"
     ]
    },
    {
     "name": "stdout",
     "output_type": "stream",
     "text": [
      "saving the file\n"
     ]
    },
    {
     "name": "stderr",
     "output_type": "stream",
     "text": [
      "https://api.openaq.org/v2/measurements?coordinates=48.86211%2C2.344615&radius=20000&limit=1000&page=8&date_from=2024-04-11&date_to=2024-05-10\n",
      "https://api.openaq.org/v2/measurements?coordinates=48.86211%2C2.344615&radius=20000&limit=1000&page=6&date_from=2024-04-11&date_to=2024-05-10\n",
      "https://api.openaq.org/v2/measurements?coordinates=48.86211%2C2.344615&radius=20000&limit=1000&page=9&date_from=2024-04-11&date_to=2024-05-10\n",
      "https://api.openaq.org/v2/measurements?coordinates=48.86211%2C2.344615&radius=20000&limit=1000&page=7&date_from=2024-04-11&date_to=2024-05-10\n",
      "https://api.openaq.org/v2/measurements?coordinates=48.86211%2C2.344615&radius=20000&limit=1000&page=10&date_from=2024-04-11&date_to=2024-05-10\n",
      "https://api.openaq.org/v2/measurements?coordinates=48.86211%2C2.344615&radius=20000&limit=1000&page=13&date_from=2024-04-11&date_to=2024-05-10\n",
      "https://api.openaq.org/v2/measurements?coordinates=48.86211%2C2.344615&radius=20000&limit=1000&page=11&date_from=2024-04-11&date_to=2024-05-10\n",
      "https://api.openaq.org/v2/measurements?coordinates=48.86211%2C2.344615&radius=20000&limit=1000&page=14&date_from=2024-04-11&date_to=2024-05-10\n",
      "https://api.openaq.org/v2/measurements?coordinates=48.86211%2C2.344615&radius=20000&limit=1000&page=12&date_from=2024-04-11&date_to=2024-05-10\n",
      "https://api.openaq.org/v2/measurements?coordinates=48.86211%2C2.344615&radius=20000&limit=1000&page=15&date_from=2024-04-11&date_to=2024-05-10\n",
      "https://api.openaq.org/v2/measurements?coordinates=48.86211%2C2.344615&radius=20000&limit=1000&page=16&date_from=2024-04-11&date_to=2024-05-10\n",
      "https://api.openaq.org/v2/measurements?coordinates=48.86211%2C2.344615&radius=20000&limit=1000&page=18&date_from=2024-04-11&date_to=2024-05-10\n",
      "https://api.openaq.org/v2/measurements?coordinates=48.86211%2C2.344615&radius=20000&limit=1000&page=17&date_from=2024-04-11&date_to=2024-05-10\n",
      "https://api.openaq.org/v2/measurements?coordinates=48.86211%2C2.344615&radius=20000&limit=1000&page=19&date_from=2024-04-11&date_to=2024-05-10\n",
      "https://api.openaq.org/v2/measurements?coordinates=48.86211%2C2.344615&radius=20000&limit=1000&page=20&date_from=2024-04-11&date_to=2024-05-10\n",
      "https://api.openaq.org/v2/measurements?coordinates=48.86211%2C2.344615&radius=20000&limit=1000&page=21&date_from=2024-04-11&date_to=2024-05-10\n",
      "https://api.openaq.org/v2/measurements?coordinates=48.86211%2C2.344615&radius=20000&limit=1000&page=23&date_from=2024-04-11&date_to=2024-05-10\n",
      "https://api.openaq.org/v2/measurements?coordinates=48.86211%2C2.344615&radius=20000&limit=1000&page=22&date_from=2024-04-11&date_to=2024-05-10\n",
      "https://api.openaq.org/v2/measurements?coordinates=48.86211%2C2.344615&radius=20000&limit=1000&page=24&date_from=2024-04-11&date_to=2024-05-10\n",
      "https://api.openaq.org/v2/measurements?coordinates=48.86211%2C2.344615&radius=20000&limit=1000&page=25&date_from=2024-04-11&date_to=2024-05-10\n",
      "                                                                                \r"
     ]
    }
   ],
   "source": [
    "from pyspark.sql.functions import col\n",
    "from pyspark.sql.functions import size\n",
    "from datetime import date\n",
    "\n",
    "today = date.today()\n",
    "MAX_PAGES = 5\n",
    "shift = 1\n",
    "firstDataFrame = True\n",
    "while True:\n",
    "    pageRequestArray = [];\n",
    "    for iPages in range(shift, MAX_PAGES + shift):\n",
    "        pageRequestArray.append(FetchMeasurementRequestRow('48.86211,2.344615', 20000, 1000, iPages)) \n",
    "        \n",
    "    request_df = spark.createDataFrame(pageRequestArray)\n",
    "    result_df = request_df \\\n",
    "      .withColumn(\"result\", udf_fetchMeasurements(col(\"coordinates\"), col(\"radius\"), col(\"limit\"), col(\"page\")))\n",
    "    result_df.cache()\n",
    "    has_invalid = result_df.where(size(col(\"result.results\")) == 0).count() > 0\n",
    "    result_df = result_df.where(size(col(\"result.results\")) > 0)\n",
    "    # save the DataFrame to storage\n",
    "    today_date_str = today.strftime(\"%d-%m-%Y\")\n",
    "    if firstDataFrame == True:\n",
    "        print(\"saving the file\")\n",
    "        result_df.write.format(\"parquet\").save(f\"gs://{bucket_name}/{today_date_str}/\", mode=\"overwrite\")\n",
    "        firstDataFrame = False\n",
    "    else:\n",
    "        result_df.write.mode(\"append\").format(\"parquet\").save(f\"gs://{bucket_name}/{today_date_str}/\")\n",
    "    \n",
    "    # test the responses - do we break out of the iteration loop or continue\n",
    "    if has_invalid:\n",
    "        break\n",
    "    shift += MAX_PAGES"
   ]
  },
  {
   "cell_type": "code",
   "execution_count": 18,
   "id": "791aa3c5-0718-41f7-89c7-1cefbae91656",
   "metadata": {},
   "outputs": [],
   "source": [
    "spark.sparkContext.stop()"
   ]
  },
  {
   "cell_type": "code",
   "execution_count": 19,
   "id": "f696986e-1e0c-41aa-86ca-a5e327c3d350",
   "metadata": {},
   "outputs": [],
   "source": [
    "spark.stop()"
   ]
  }
 ],
 "metadata": {
  "kernelspec": {
   "display_name": "Python 3 (ipykernel)",
   "language": "python",
   "name": "python3"
  },
  "language_info": {
   "codemirror_mode": {
    "name": "ipython",
    "version": 3
   },
   "file_extension": ".py",
   "mimetype": "text/x-python",
   "name": "python",
   "nbconvert_exporter": "python",
   "pygments_lexer": "ipython3",
   "version": "3.11.2"
  }
 },
 "nbformat": 4,
 "nbformat_minor": 5
}
