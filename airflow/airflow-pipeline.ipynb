{
 "cells": [
  {
   "cell_type": "code",
   "execution_count": 1,
   "id": "c97b2edb-1783-41dc-b3e7-0274523824c7",
   "metadata": {},
   "outputs": [],
   "source": [
    "from airflow.models.dag import DAG\n",
    "from datetime import timedelta\n",
    "from airflow.providers.apache.spark.operators.spark_submit import SparkSubmitOperator\n",
    "import pendulum\n",
    "\n",
    "with DAG(\n",
    "    'air-flow-data',\n",
    "    schedule='@daily',\n",
    "    start_date=pendulum.datetime(2015, 12, 1, tz=\"UTC\")\n",
    ") as dag:\n",
    "    spark_gcs_to_bq = SparkSubmitOperator(\n",
    "        application=\"spark_gcs_to_big_query.py\", task_id=\"gcs_to_bq\", conn_id=\"spark-connection\",\n",
    "        jars = \"https://storage.googleapis.com/hadoop-lib/gcs/gcs-connector-hadoop3-latest.jar,https://github.com/GoogleCloudDataproc/spark-bigquery-connector/releases/download/0.38.0/spark-bigquery-with-dependencies_2.12-0.38.0.jar\"\n",
    "    )\n",
    "    \n",
    "    spark_api_to_gcs = SparkSubmitOperator(\n",
    "        application=\"spark_api_to_gcs.py\", task_id=\"api_to_gcs\", conn_id=\"spark-connection\",\n",
    "        jars = \"https://storage.googleapis.com/hadoop-lib/gcs/gcs-connector-hadoop3-latest.jar,https://github.com/GoogleCloudDataproc/spark-bigquery-connector/releases/download/0.38.0/spark-bigquery-with-dependencies_2.12-0.38.0.jar\"\n",
    "    )\n",
    "    \n",
    "    spark_api_to_gcs >> spark_gcs_to_bq"
   ]
  }
 ],
 "metadata": {
  "kernelspec": {
   "display_name": "Python 3 (ipykernel)",
   "language": "python",
   "name": "python3"
  },
  "language_info": {
   "codemirror_mode": {
    "name": "ipython",
    "version": 3
   },
   "file_extension": ".py",
   "mimetype": "text/x-python",
   "name": "python",
   "nbconvert_exporter": "python",
   "pygments_lexer": "ipython3",
   "version": "3.11.2"
  }
 },
 "nbformat": 4,
 "nbformat_minor": 5
}
